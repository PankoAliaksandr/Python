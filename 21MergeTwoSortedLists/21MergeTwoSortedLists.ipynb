{
 "cells": [
  {
   "cell_type": "markdown",
   "metadata": {},
   "source": [
    "# 21. Merge Two Sorted Lists"
   ]
  },
  {
   "cell_type": "markdown",
   "metadata": {},
   "source": [
    "## Description\n",
    "Merge two sorted linked lists and return it as a new sorted list. The new list should be made by splicing together the nodes of the first two lists."
   ]
  },
  {
   "cell_type": "code",
   "execution_count": null,
   "metadata": {},
   "outputs": [],
   "source": [
    "# Definition for singly-linked list.\n",
    "# class ListNode:\n",
    "#     def __init__(self, val=0, next=None):\n",
    "#         self.val = val\n",
    "#         self.next = next\n",
    "class Solution:        \n",
    "    def mergeTwoLists(self, l1: ListNode, l2: ListNode) -> ListNode:\n",
    "        # Boder cases\n",
    "        if(l1 == None):return l2\n",
    "        if(l2 == None):return l1\n",
    "        \n",
    "        head = ListNode()\n",
    "        tail = head\n",
    "        \n",
    "        # Initialize final list\n",
    "        # final_list = list()\n",
    "        \n",
    "        # The final size of an array is known\n",
    "        while l1 != None and l2 != None:\n",
    "            if(l1.val > l2.val):\n",
    "                tail.next = l2\n",
    "                l2 = l2.next\n",
    "            else:\n",
    "                tail.next = l1\n",
    "                l1 = l1.next  \n",
    "            \n",
    "            tail = tail.next\n",
    "\n",
    "        if(l1):\n",
    "            tail.next = l1\n",
    "        if(l2):\n",
    "            tail.next = l2\n",
    "\n",
    "        return head.next"
   ]
  },
  {
   "cell_type": "markdown",
   "metadata": {},
   "source": [
    "## Resume\n",
    "\n",
    "1. Linked lists have 2 attributes: value and links (next and\\or prev)\n",
    "2. The links are poining to an object\n",
    "3. It is enough to know only the first element of a linked list (or the last in case of prev linkage)\n",
    "4. You can link 2 lists just transfering 1(or 2) links\n",
    "3. Remember the notation: if(a) or while(a) means if(a != None)"
   ]
  },
  {
   "cell_type": "code",
   "execution_count": null,
   "metadata": {},
   "outputs": [],
   "source": []
  }
 ],
 "metadata": {
  "kernelspec": {
   "display_name": "Python 3",
   "language": "python",
   "name": "python3"
  },
  "language_info": {
   "codemirror_mode": {
    "name": "ipython",
    "version": 3
   },
   "file_extension": ".py",
   "mimetype": "text/x-python",
   "name": "python",
   "nbconvert_exporter": "python",
   "pygments_lexer": "ipython3",
   "version": "3.6.6"
  }
 },
 "nbformat": 4,
 "nbformat_minor": 2
}
