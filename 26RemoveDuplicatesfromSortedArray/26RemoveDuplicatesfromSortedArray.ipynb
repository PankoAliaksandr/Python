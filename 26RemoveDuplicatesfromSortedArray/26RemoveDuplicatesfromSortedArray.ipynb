{
 "cells": [
  {
   "cell_type": "markdown",
   "metadata": {},
   "source": [
    "# 26. Remove Duplicates from Sorted Array"
   ]
  },
  {
   "cell_type": "markdown",
   "metadata": {},
   "source": [
    "## Description\n",
    "* Given a sorted array nums, remove the duplicates in-place such that each element appears only once and returns the new length.\n",
    "\n",
    "* Do not allocate extra space for another array, you must do this by modifying the input array in-place with O(1) extra memory.\n",
    "\n",
    "* Clarification:\n",
    "\n",
    "* Confused why the returned value is an integer but your answer is an array?\n",
    "\n",
    "* Note that the input array is passed in by reference, which means a modification to the input array will be known to the caller as well.\n",
    "* better than 70.38% (my original)"
   ]
  },
  {
   "cell_type": "code",
   "execution_count": null,
   "metadata": {},
   "outputs": [],
   "source": [
    "class Solution:\n",
    "    def removeDuplicates(self, nums: List[int]) -> int:\n",
    "        n = len(nums)\n",
    "        # Border solution\n",
    "        if(n == 0):\n",
    "            return None\n",
    "        elif(n == 1):\n",
    "            return 1\n",
    "        else:\n",
    "            # There are at least 2 elements\n",
    "            size = 1\n",
    "            # We analyse from 2nd untill the last element\n",
    "            for i in range(1, len(nums)):\n",
    "                if(nums[i] > nums[i-1]):\n",
    "                    # Correct order\n",
    "                    saved = nums[i]\n",
    "                    nums[size] = saved\n",
    "                    size = size + 1\n",
    "                    continue\n",
    "                elif(nums[i] == nums[i-1]):\n",
    "                    continue\n",
    "            return size                "
   ]
  },
  {
   "cell_type": "markdown",
   "metadata": {},
   "source": [
    "## Resume\n",
    "\n",
    "1. I spend around 4h for the task, however it was really easy.\n",
    "2. Try to think simple first, do not overthink the solution\n",
    "3. Write the algorithm first untill the end"
   ]
  }
 ],
 "metadata": {
  "kernelspec": {
   "display_name": "Python 3",
   "language": "python",
   "name": "python3"
  },
  "language_info": {
   "codemirror_mode": {
    "name": "ipython",
    "version": 3
   },
   "file_extension": ".py",
   "mimetype": "text/x-python",
   "name": "python",
   "nbconvert_exporter": "python",
   "pygments_lexer": "ipython3",
   "version": "3.6.6"
  }
 },
 "nbformat": 4,
 "nbformat_minor": 2
}
