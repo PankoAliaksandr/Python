{
 "cells": [
  {
   "cell_type": "markdown",
   "metadata": {},
   "source": [
    "# 20. Valid Parentheses"
   ]
  },
  {
   "cell_type": "markdown",
   "metadata": {},
   "source": [
    "## Description\n",
    " * Given a string s containing just the characters '(', ')', '{', '}', '[' and ']', determine if the input string is valid.\n",
    "\n",
    "An input string is valid if:\n",
    "\n",
    "* Open brackets must be closed by the same type of brackets.\n",
    "* Open brackets must be closed in the correct order."
   ]
  },
  {
   "cell_type": "code",
   "execution_count": null,
   "metadata": {},
   "outputs": [],
   "source": [
    "# The solution is done via Stack\n",
    "\n",
    "# Solution 1\n",
    "\n",
    "class Solution:\n",
    "    def isValid(self, s: str) -> bool:\n",
    "        from queue import LifoQueue\n",
    "         # Initializing a stack\n",
    "        stack = LifoQueue(maxsize = 10000)\n",
    "        # Create a dictionary\n",
    "        dict = {\n",
    "                    \")\":\"(\",\n",
    "                    \"}\":\"{\",\n",
    "                    \"]\":\"[\",\n",
    "               }\n",
    "        \n",
    "        if(len(s) % 2 != 0):\n",
    "            # The number of brackets must be even\n",
    "            return False\n",
    "        else:\n",
    "\n",
    "            # s is not null by definition\n",
    "            for i in s:\n",
    "                if(i in dict.values()):\n",
    "                    # Input open bracket in a stack\n",
    "                    stack.put(i)\n",
    "                elif(i in dict.keys()):\n",
    "                    # pop from the stack\n",
    "                    if(stack.empty() == True):\n",
    "                        return False\n",
    "                    else:\n",
    "                        item = stack.get()\n",
    "                        if(item == dict.get(i)):\n",
    "                            # matched correctly\n",
    "                            continue\n",
    "                        else:\n",
    "                            # the sequence is not correct\n",
    "                            return False\n",
    "                else:\n",
    "                    # unexpected character\n",
    "                    return False\n",
    "            # If we are here, than everything was correct\n",
    "            if(stack.empty()):\n",
    "                return True\n",
    "            else:\n",
    "                return False\n"
   ]
  },
  {
   "cell_type": "code",
   "execution_count": null,
   "metadata": {},
   "outputs": [],
   "source": [
    "# The most elegant solution\n",
    "class Solution(object):\n",
    "    def isValid(self, s):\n",
    "        while \"()\" in s or \"{}\" in s or '[]' in s:\n",
    "            s = s.replace(\"()\", \"\").replace('{}', \"\").replace('[]', \"\")\n",
    "        return s == ''\n"
   ]
  },
  {
   "cell_type": "code",
   "execution_count": null,
   "metadata": {},
   "outputs": [],
   "source": [
    "# The fastest solution\n",
    "class Solution(object):\n",
    "    def isValid(self, s):\n",
    "        if(len(s) % 2 != 0):\n",
    "            # The number of brackets must be even\n",
    "            return False\n",
    "        else:\n",
    "            bracket_map = {\"(\": \")\", \"[\": \"]\",  \"{\": \"}\"}\n",
    "            stack = []\n",
    "            for i in s:\n",
    "                if i in bracket_map.keys():\n",
    "                    stack.append(i)\n",
    "                elif stack and i == bracket_map.get(stack[-1]):\n",
    "                        stack.pop()\n",
    "                else:\n",
    "                    return False\n",
    "            return stack == []\n"
   ]
  },
  {
   "cell_type": "markdown",
   "metadata": {},
   "source": [
    "## Resume\n",
    "1. Simple array can be efficiently used to reproduce stack.\n",
    "2. Always check border cases (like len(s) % 2 != 0) this significantly reduces the time.\n",
    "3. The elegant solution efficiently uses strings functions, worth to think about an object available functions first"
   ]
  },
  {
   "cell_type": "code",
   "execution_count": null,
   "metadata": {},
   "outputs": [],
   "source": []
  }
 ],
 "metadata": {
  "kernelspec": {
   "display_name": "Python 3",
   "language": "python",
   "name": "python3"
  },
  "language_info": {
   "codemirror_mode": {
    "name": "ipython",
    "version": 3
   },
   "file_extension": ".py",
   "mimetype": "text/x-python",
   "name": "python",
   "nbconvert_exporter": "python",
   "pygments_lexer": "ipython3",
   "version": "3.6.6"
  }
 },
 "nbformat": 4,
 "nbformat_minor": 2
}
