{
 "cells": [
  {
   "cell_type": "markdown",
   "metadata": {},
   "source": [
    "# 14. Longest Common Prefix"
   ]
  },
  {
   "cell_type": "markdown",
   "metadata": {},
   "source": [
    "## Description\n",
    "https://leetcode.com/problems/longest-common-prefix/solution/771093 \n",
    "better than 90.52%\n",
    "Write a function to find the longest common prefix string amongst an array of strings.\n",
    "If there is no common prefix, return an empty string \"\"."
   ]
  },
  {
   "cell_type": "code",
   "execution_count": null,
   "metadata": {},
   "outputs": [],
   "source": [
    "class Solution:\n",
    "    def longestCommonPrefix(self, strs: List[str]) -> str:\n",
    "        # inital longest common prefix\n",
    "        if(strs):\n",
    "            # here strs is not empty\n",
    "            lcp = strs[0]\n",
    "            l = len(lcp)\n",
    "            # check each string\n",
    "            for s in strs:\n",
    "                if(len(lcp) == 0):\n",
    "                    # No common prefix\n",
    "                    return \"\"\n",
    "                else:\n",
    "                    if(s == lcp):\n",
    "                        # strings are identical\n",
    "                        continue\n",
    "                    else:\n",
    "                        # the strings are not identical\n",
    "                        if(len(s) < l):\n",
    "                            # a new str is shorter -> only this str can give max prefix\n",
    "                            temp = lcp\n",
    "                            lcp = s\n",
    "                            l = len(lcp)\n",
    "                            s = temp\n",
    "                        else:\n",
    "                            # nothing\n",
    "                            pass\n",
    "                        # until new string is not empty\n",
    "                        while l > 0:\n",
    "                            # reduce substing until it is not in a new string\n",
    "                            if(s[:l] == lcp):\n",
    "                                break\n",
    "                            else:\n",
    "                                # reduce common prefix by 1 letter\n",
    "                                l = l - 1\n",
    "                                lcp = lcp[:l]\n",
    "\n",
    "            return lcp\n",
    "        else:\n",
    "            # if strs is empty\n",
    "            return \"\"\n",
    "            "
   ]
  },
  {
   "cell_type": "markdown",
   "metadata": {},
   "source": [
    "## Resume\n",
    "1. Was correct from the 2nd attempt\n",
    "2. Think first this improves efficiency\n",
    "3. So high score is because of great architecture of a solution"
   ]
  },
  {
   "cell_type": "code",
   "execution_count": null,
   "metadata": {},
   "outputs": [],
   "source": []
  }
 ],
 "metadata": {
  "kernelspec": {
   "display_name": "Python 3",
   "language": "python",
   "name": "python3"
  },
  "language_info": {
   "codemirror_mode": {
    "name": "ipython",
    "version": 3
   },
   "file_extension": ".py",
   "mimetype": "text/x-python",
   "name": "python",
   "nbconvert_exporter": "python",
   "pygments_lexer": "ipython3",
   "version": "3.6.6"
  }
 },
 "nbformat": 4,
 "nbformat_minor": 2
}
