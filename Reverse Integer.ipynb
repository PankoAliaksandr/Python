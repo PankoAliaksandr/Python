{
 "cells": [
  {
   "cell_type": "markdown",
   "metadata": {},
   "source": [
    "# Reverse Integer\n",
    "Given a 32-bit signed integer, reverse digits of an integer.\n",
    "\n",
    "Note:\n",
    "Assume we are dealing with an environment that could only store integers within the 32-bit signed integer range: [−231,  231 − 1]. For the purpose of this problem, assume that your function returns 0 when the reversed integer overflows.\n",
    "\n",
    " \n",
    "\n",
    "* Example 1:\n",
    "\n",
    "Input: x = 123\n",
    "Output: 321\n",
    "* Example 2:\n",
    "\n",
    "Input: x = -123\n",
    "Output: -321\n",
    "* Example 3:\n",
    "\n",
    "Input: x = 120\n",
    "Output: 21\n",
    "* Example 4:\n",
    "\n",
    "Input: x = 0\n",
    "Output: 0\n",
    " \n",
    "\n",
    "* Constraints:\n",
    "\n",
    "-231 <= x <= 231 - 1"
   ]
  },
  {
   "cell_type": "code",
   "execution_count": null,
   "metadata": {},
   "outputs": [],
   "source": [
    "class Solution:\n",
    "    def reverse(self, x: int) -> int:\n",
    "        if(x > 0):\n",
    "            sign = 1\n",
    "        elif(x < 0):\n",
    "            sign = -1\n",
    "        else:\n",
    "            return 0\n",
    "        low = -2**31\n",
    "        high = 2**31 - 1\n",
    "        x = abs(x)\n",
    "        n = int(math.log10(x)) + 1\n",
    "        new_number = 0\n",
    "        remained_number = x\n",
    "        for i in range(n):\n",
    "            last_digit = remained_number%10\n",
    "            remained_number = remained_number//10\n",
    "            new_number = new_number * 10 + last_digit\n",
    "        new_number = new_number * sign\n",
    "        if(new_number > high or new_number < low):\n",
    "            return 0\n",
    "        return(new_number)"
   ]
  },
  {
   "cell_type": "code",
   "execution_count": null,
   "metadata": {},
   "outputs": [],
   "source": []
  }
 ],
 "metadata": {
  "kernelspec": {
   "display_name": "Python 3",
   "language": "python",
   "name": "python3"
  },
  "language_info": {
   "codemirror_mode": {
    "name": "ipython",
    "version": 3
   },
   "file_extension": ".py",
   "mimetype": "text/x-python",
   "name": "python",
   "nbconvert_exporter": "python",
   "pygments_lexer": "ipython3",
   "version": "3.6.6"
  }
 },
 "nbformat": 4,
 "nbformat_minor": 2
}
