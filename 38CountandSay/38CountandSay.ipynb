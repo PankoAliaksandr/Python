{
 "cells": [
  {
   "cell_type": "markdown",
   "metadata": {},
   "source": [
    "# The Lorenz Differential Equations"
   ]
  },
  {
   "cell_type": "markdown",
   "metadata": {},
   "source": [
    "38. Count and Say\n",
    "\n",
    "The count-and-say sequence is a sequence of digit strings defined by the recursive formula:\n",
    "\n",
    "countAndSay(1) = \"1\"\n",
    "countAndSay(n) is the way you would \"say\" the digit string from countAndSay(n-1), which is then converted into a different digit string.\n",
    "To determine how you \"say\" a digit string, split it into the minimal number of groups so that each group is a contiguous section all of the same character. Then for each group, say the number of characters, then say the character. To convert the saying into a digit string, replace the counts with a number and concatenate every saying.\n",
    "\n",
    "For example, the saying and conversion for digit string \"3322251\": \"23321511\n",
    "\n",
    "Given a positive integer n, return the nth term of the count-and-say sequence."
   ]
  },
  {
   "cell_type": "code",
   "execution_count": null,
   "metadata": {},
   "outputs": [],
   "source": [
    "# Done by myself from 1st attempt\n",
    "class Solution:\n",
    "    def countAndSay(self, n: int) -> str:\n",
    "        if(n == 1):\n",
    "            return \"1\"\n",
    "        else:\n",
    "            prev_str = self.countAndSay(n-1)\n",
    "            char_l = []\n",
    "            count_l = []\n",
    "            count = 0\n",
    "            for i in range(len(prev_str)):\n",
    "                if(char_l == []):\n",
    "                    # Add new symbol\n",
    "                    char_l.append(prev_str[i])\n",
    "                    count = 1\n",
    "                else:\n",
    "                    if(prev_str[i] != char_l[len(char_l) - 1]):\n",
    "                        # Store prev count\n",
    "                        count_l.append(str(count))\n",
    "                        # Add new symbol and update count\n",
    "                        char_l.append(prev_str[i])\n",
    "                        count = 1\n",
    "                    else:\n",
    "                        # the same symbol\n",
    "                        count += 1\n",
    "                        \n",
    "                if(i == (len(prev_str) - 1)):\n",
    "                    # Last iteration: append last count\n",
    "                    count_l.append(str(count))\n",
    "                else: pass\n",
    "            final_str = \"\"\n",
    "            for i in range(len(char_l)):\n",
    "                final_str = final_str + count_l[i] + char_l[i]\n",
    "            return final_str "
   ]
  }
 ],
 "metadata": {
  "kernelspec": {
   "display_name": "Python 3",
   "language": "python",
   "name": "python3"
  },
  "language_info": {
   "codemirror_mode": {
    "name": "ipython",
    "version": 3
   },
   "file_extension": ".py",
   "mimetype": "text/x-python",
   "name": "python",
   "nbconvert_exporter": "python",
   "pygments_lexer": "ipython3",
   "version": "3.7.8"
  }
 },
 "nbformat": 4,
 "nbformat_minor": 4
}
